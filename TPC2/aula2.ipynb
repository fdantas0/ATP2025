{
 "cells": [
  {
   "cell_type": "code",
   "execution_count": 2,
   "id": "7f582b8b",
   "metadata": {},
   "outputs": [
    {
     "name": "stdout",
     "output_type": "stream",
     "text": [
      "Jogo dos 21 fósforos. Cada jogador pode tirar entre 1 a 4 fósforos. Quem ficar com o último perde!\n",
      "O computador tirou 1 fósforos. Restam 20 fósforos.\n",
      "Tiraste 4 fósforos. Restam 16 fósforos.\n",
      "O computador tirou 4 fósforos. Restam 12 fósforos.\n",
      "Tiraste 1 fósforos. Restam 11 fósforos.\n",
      "O computador tirou 3 fósforos. Restam 8 fósforos.\n",
      "Tiraste 2 fósforos. Restam 6 fósforos.\n",
      "O computador tirou 3 fósforos. Restam 3 fósforos.\n",
      "Tiraste 2 fósforos. Restam 1 fósforos.\n",
      "Parabéns, ganhaste o jogo!\n"
     ]
    }
   ],
   "source": [
    "import random\n",
    "\n",
    "soma = 21\n",
    "print(\"Jogo dos 21 fósforos. Cada jogador pode tirar entre 1 a 4 fósforos. Quem ficar com o último perde!\")\n",
    "\n",
    "play = int(input(\"Quem começa a jogar? (1=TU ou 2=COMPUTADOR): \"))\n",
    "\n",
    "if play == 1:\n",
    "    while soma > 1:\n",
    "        n = int(input(\"Quantos fósforos queres tirar (1-4)? \"))\n",
    "        while n < 1 or n > 4 or n > soma:\n",
    "            print(\"Não podes tirar esse número de fósforos. Só podes tirar entre 1 a 4 fósforos e não podes tirar mais do que os restantes.\")\n",
    "            n = int(input(\"Quantos fósforos queres tirar (1-4)? \"))\n",
    "\n",
    "        soma -= n\n",
    "        print(f\"Tiraste {n} fósforos. Restam {soma} fósforos.\")\n",
    "\n",
    "        if soma == 1:\n",
    "            print(\"Parabéns, ganhaste o jogo!\")\n",
    "            break\n",
    "\n",
    "        if soma % 5 != 1:\n",
    "            comp = (soma - 1) % 5\n",
    "            if comp == 0:\n",
    "                comp = random.randint(1, min(4, soma - 1))\n",
    "        else:\n",
    "            comp = random.randint(1, min(4, soma - 1))\n",
    "\n",
    "        soma -= comp\n",
    "        print(f\"O computador tirou {comp} fósforos. Restam {soma} fósforos.\")\n",
    "\n",
    "        if soma == 1:\n",
    "            print(\"O computador ganhou, fica para uma próxima.\")\n",
    "            break\n",
    "\n",
    "else:\n",
    "    comp = random.randint(1, 4)\n",
    "    soma -= comp\n",
    "    print(f\"O computador tirou {comp} fósforos. Restam {soma} fósforos.\")\n",
    "\n",
    "    while soma > 1:\n",
    "        n = int(input(\"Quantos fósforos queres tirar (1-4)? \"))\n",
    "        while n < 1 or n > 4 or n > soma:\n",
    "            print(\"Não podes tirar esse número de fósforos. Só podes tirar entre 1 a 4 fósforos e não podes tirar mais do que os restantes.\")\n",
    "            n = int(input(\"Quantos fósforos queres tirar (1-4)? \"))\n",
    "\n",
    "        soma -= n\n",
    "        print(f\"Tiraste {n} fósforos. Restam {soma} fósforos.\")\n",
    "\n",
    "        if soma == 1:\n",
    "            print(\"Parabéns, ganhaste o jogo!\")\n",
    "            break\n",
    "\n",
    "        if soma % 5 != 1:\n",
    "            comp = (soma - 1) % 5\n",
    "            if comp == 0:\n",
    "                comp = random.randint(1, min(4, soma - 1))\n",
    "        else:\n",
    "            comp = random.randint(1, min(4, soma - 1))\n",
    "\n",
    "        soma -= comp\n",
    "        print(f\"O computador tirou {comp} fósforos. Restam {soma} fósforos.\")\n",
    "\n",
    "        if soma == 1:\n",
    "            print(\"O computador ganhou, fica para uma próxima.\")\n",
    "            break\n"
   ]
  }
 ],
 "metadata": {
  "kernelspec": {
   "display_name": "Python 3",
   "language": "python",
   "name": "python3"
  },
  "language_info": {
   "codemirror_mode": {
    "name": "ipython",
    "version": 3
   },
   "file_extension": ".py",
   "mimetype": "text/x-python",
   "name": "python",
   "nbconvert_exporter": "python",
   "pygments_lexer": "ipython3",
   "version": "3.13.7"
  }
 },
 "nbformat": 4,
 "nbformat_minor": 5
}
